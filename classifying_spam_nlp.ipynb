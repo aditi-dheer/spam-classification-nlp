{
  "nbformat": 4,
  "nbformat_minor": 0,
  "metadata": {
    "colab": {
      "provenance": []
    },
    "kernelspec": {
      "name": "python3",
      "display_name": "Python 3"
    },
    "language_info": {
      "name": "python"
    }
  },
  "cells": [
    {
      "cell_type": "code",
      "execution_count": 1,
      "metadata": {
        "id": "z7pld4bZf8Fp"
      },
      "outputs": [],
      "source": [
        "import pandas as pd\n",
        "import numpy as np\n",
        "import os\n",
        "import matplotlib as plt\n",
        "import seaborn as sns"
      ]
    },
    {
      "cell_type": "code",
      "source": [
        "from sklearn.model_selection import train_test_split\n",
        "from sklearn.linear_model import LogisticRegression\n",
        "from sklearn.metrics import roc_auc_score"
      ],
      "metadata": {
        "id": "_iIwwEhNgYRc"
      },
      "execution_count": 2,
      "outputs": []
    },
    {
      "cell_type": "markdown",
      "source": [
        "##  Step 1: Load a Data Set and Save it as a Pandas DataFrame"
      ],
      "metadata": {
        "id": "SihN0XiXga-Q"
      }
    },
    {
      "cell_type": "code",
      "source": [
        "filename = os.path.join(os.getcwd(), \"data\", \"spamDataset.csv\")\n",
        "df = pd.read_csv(filename, header=0)\n",
        "\n",
        "df.head()"
      ],
      "metadata": {
        "id": "poUNKCyGghT_",
        "colab": {
          "base_uri": "https://localhost:8080/",
          "height": 206
        },
        "outputId": "72944a5b-1fe2-42b6-84ae-63f30fe728fc"
      },
      "execution_count": 3,
      "outputs": [
        {
          "output_type": "execute_result",
          "data": {
            "text/plain": [
              "                                          email_text   spam\n",
              "0  Subject: enron methanol ; meter # : 988291\\r\\n...  False\n",
              "1  Subject: hpl nom for january 9 , 2001\\r\\n( see...  False\n",
              "2  Subject: neon retreat\\r\\nho ho ho , we ' re ar...  False\n",
              "3  Subject: photoshop , windows , office . cheap ...   True\n",
              "4  Subject: re : indian springs\\r\\nthis deal is t...  False"
            ],
            "text/html": [
              "\n",
              "  <div id=\"df-652acccd-fb05-495a-84b5-4aefbc2f2252\" class=\"colab-df-container\">\n",
              "    <div>\n",
              "<style scoped>\n",
              "    .dataframe tbody tr th:only-of-type {\n",
              "        vertical-align: middle;\n",
              "    }\n",
              "\n",
              "    .dataframe tbody tr th {\n",
              "        vertical-align: top;\n",
              "    }\n",
              "\n",
              "    .dataframe thead th {\n",
              "        text-align: right;\n",
              "    }\n",
              "</style>\n",
              "<table border=\"1\" class=\"dataframe\">\n",
              "  <thead>\n",
              "    <tr style=\"text-align: right;\">\n",
              "      <th></th>\n",
              "      <th>email_text</th>\n",
              "      <th>spam</th>\n",
              "    </tr>\n",
              "  </thead>\n",
              "  <tbody>\n",
              "    <tr>\n",
              "      <th>0</th>\n",
              "      <td>Subject: enron methanol ; meter # : 988291\\r\\n...</td>\n",
              "      <td>False</td>\n",
              "    </tr>\n",
              "    <tr>\n",
              "      <th>1</th>\n",
              "      <td>Subject: hpl nom for january 9 , 2001\\r\\n( see...</td>\n",
              "      <td>False</td>\n",
              "    </tr>\n",
              "    <tr>\n",
              "      <th>2</th>\n",
              "      <td>Subject: neon retreat\\r\\nho ho ho , we ' re ar...</td>\n",
              "      <td>False</td>\n",
              "    </tr>\n",
              "    <tr>\n",
              "      <th>3</th>\n",
              "      <td>Subject: photoshop , windows , office . cheap ...</td>\n",
              "      <td>True</td>\n",
              "    </tr>\n",
              "    <tr>\n",
              "      <th>4</th>\n",
              "      <td>Subject: re : indian springs\\r\\nthis deal is t...</td>\n",
              "      <td>False</td>\n",
              "    </tr>\n",
              "  </tbody>\n",
              "</table>\n",
              "</div>\n",
              "    <div class=\"colab-df-buttons\">\n",
              "\n",
              "  <div class=\"colab-df-container\">\n",
              "    <button class=\"colab-df-convert\" onclick=\"convertToInteractive('df-652acccd-fb05-495a-84b5-4aefbc2f2252')\"\n",
              "            title=\"Convert this dataframe to an interactive table.\"\n",
              "            style=\"display:none;\">\n",
              "\n",
              "  <svg xmlns=\"http://www.w3.org/2000/svg\" height=\"24px\" viewBox=\"0 -960 960 960\">\n",
              "    <path d=\"M120-120v-720h720v720H120Zm60-500h600v-160H180v160Zm220 220h160v-160H400v160Zm0 220h160v-160H400v160ZM180-400h160v-160H180v160Zm440 0h160v-160H620v160ZM180-180h160v-160H180v160Zm440 0h160v-160H620v160Z\"/>\n",
              "  </svg>\n",
              "    </button>\n",
              "\n",
              "  <style>\n",
              "    .colab-df-container {\n",
              "      display:flex;\n",
              "      gap: 12px;\n",
              "    }\n",
              "\n",
              "    .colab-df-convert {\n",
              "      background-color: #E8F0FE;\n",
              "      border: none;\n",
              "      border-radius: 50%;\n",
              "      cursor: pointer;\n",
              "      display: none;\n",
              "      fill: #1967D2;\n",
              "      height: 32px;\n",
              "      padding: 0 0 0 0;\n",
              "      width: 32px;\n",
              "    }\n",
              "\n",
              "    .colab-df-convert:hover {\n",
              "      background-color: #E2EBFA;\n",
              "      box-shadow: 0px 1px 2px rgba(60, 64, 67, 0.3), 0px 1px 3px 1px rgba(60, 64, 67, 0.15);\n",
              "      fill: #174EA6;\n",
              "    }\n",
              "\n",
              "    .colab-df-buttons div {\n",
              "      margin-bottom: 4px;\n",
              "    }\n",
              "\n",
              "    [theme=dark] .colab-df-convert {\n",
              "      background-color: #3B4455;\n",
              "      fill: #D2E3FC;\n",
              "    }\n",
              "\n",
              "    [theme=dark] .colab-df-convert:hover {\n",
              "      background-color: #434B5C;\n",
              "      box-shadow: 0px 1px 3px 1px rgba(0, 0, 0, 0.15);\n",
              "      filter: drop-shadow(0px 1px 2px rgba(0, 0, 0, 0.3));\n",
              "      fill: #FFFFFF;\n",
              "    }\n",
              "  </style>\n",
              "\n",
              "    <script>\n",
              "      const buttonEl =\n",
              "        document.querySelector('#df-652acccd-fb05-495a-84b5-4aefbc2f2252 button.colab-df-convert');\n",
              "      buttonEl.style.display =\n",
              "        google.colab.kernel.accessAllowed ? 'block' : 'none';\n",
              "\n",
              "      async function convertToInteractive(key) {\n",
              "        const element = document.querySelector('#df-652acccd-fb05-495a-84b5-4aefbc2f2252');\n",
              "        const dataTable =\n",
              "          await google.colab.kernel.invokeFunction('convertToInteractive',\n",
              "                                                    [key], {});\n",
              "        if (!dataTable) return;\n",
              "\n",
              "        const docLinkHtml = 'Like what you see? Visit the ' +\n",
              "          '<a target=\"_blank\" href=https://colab.research.google.com/notebooks/data_table.ipynb>data table notebook</a>'\n",
              "          + ' to learn more about interactive tables.';\n",
              "        element.innerHTML = '';\n",
              "        dataTable['output_type'] = 'display_data';\n",
              "        await google.colab.output.renderOutput(dataTable, element);\n",
              "        const docLink = document.createElement('div');\n",
              "        docLink.innerHTML = docLinkHtml;\n",
              "        element.appendChild(docLink);\n",
              "      }\n",
              "    </script>\n",
              "  </div>\n",
              "\n",
              "\n",
              "    <div id=\"df-3883452e-8f43-4d90-b045-d01d1676d8bb\">\n",
              "      <button class=\"colab-df-quickchart\" onclick=\"quickchart('df-3883452e-8f43-4d90-b045-d01d1676d8bb')\"\n",
              "                title=\"Suggest charts\"\n",
              "                style=\"display:none;\">\n",
              "\n",
              "<svg xmlns=\"http://www.w3.org/2000/svg\" height=\"24px\"viewBox=\"0 0 24 24\"\n",
              "     width=\"24px\">\n",
              "    <g>\n",
              "        <path d=\"M19 3H5c-1.1 0-2 .9-2 2v14c0 1.1.9 2 2 2h14c1.1 0 2-.9 2-2V5c0-1.1-.9-2-2-2zM9 17H7v-7h2v7zm4 0h-2V7h2v10zm4 0h-2v-4h2v4z\"/>\n",
              "    </g>\n",
              "</svg>\n",
              "      </button>\n",
              "\n",
              "<style>\n",
              "  .colab-df-quickchart {\n",
              "      --bg-color: #E8F0FE;\n",
              "      --fill-color: #1967D2;\n",
              "      --hover-bg-color: #E2EBFA;\n",
              "      --hover-fill-color: #174EA6;\n",
              "      --disabled-fill-color: #AAA;\n",
              "      --disabled-bg-color: #DDD;\n",
              "  }\n",
              "\n",
              "  [theme=dark] .colab-df-quickchart {\n",
              "      --bg-color: #3B4455;\n",
              "      --fill-color: #D2E3FC;\n",
              "      --hover-bg-color: #434B5C;\n",
              "      --hover-fill-color: #FFFFFF;\n",
              "      --disabled-bg-color: #3B4455;\n",
              "      --disabled-fill-color: #666;\n",
              "  }\n",
              "\n",
              "  .colab-df-quickchart {\n",
              "    background-color: var(--bg-color);\n",
              "    border: none;\n",
              "    border-radius: 50%;\n",
              "    cursor: pointer;\n",
              "    display: none;\n",
              "    fill: var(--fill-color);\n",
              "    height: 32px;\n",
              "    padding: 0;\n",
              "    width: 32px;\n",
              "  }\n",
              "\n",
              "  .colab-df-quickchart:hover {\n",
              "    background-color: var(--hover-bg-color);\n",
              "    box-shadow: 0 1px 2px rgba(60, 64, 67, 0.3), 0 1px 3px 1px rgba(60, 64, 67, 0.15);\n",
              "    fill: var(--button-hover-fill-color);\n",
              "  }\n",
              "\n",
              "  .colab-df-quickchart-complete:disabled,\n",
              "  .colab-df-quickchart-complete:disabled:hover {\n",
              "    background-color: var(--disabled-bg-color);\n",
              "    fill: var(--disabled-fill-color);\n",
              "    box-shadow: none;\n",
              "  }\n",
              "\n",
              "  .colab-df-spinner {\n",
              "    border: 2px solid var(--fill-color);\n",
              "    border-color: transparent;\n",
              "    border-bottom-color: var(--fill-color);\n",
              "    animation:\n",
              "      spin 1s steps(1) infinite;\n",
              "  }\n",
              "\n",
              "  @keyframes spin {\n",
              "    0% {\n",
              "      border-color: transparent;\n",
              "      border-bottom-color: var(--fill-color);\n",
              "      border-left-color: var(--fill-color);\n",
              "    }\n",
              "    20% {\n",
              "      border-color: transparent;\n",
              "      border-left-color: var(--fill-color);\n",
              "      border-top-color: var(--fill-color);\n",
              "    }\n",
              "    30% {\n",
              "      border-color: transparent;\n",
              "      border-left-color: var(--fill-color);\n",
              "      border-top-color: var(--fill-color);\n",
              "      border-right-color: var(--fill-color);\n",
              "    }\n",
              "    40% {\n",
              "      border-color: transparent;\n",
              "      border-right-color: var(--fill-color);\n",
              "      border-top-color: var(--fill-color);\n",
              "    }\n",
              "    60% {\n",
              "      border-color: transparent;\n",
              "      border-right-color: var(--fill-color);\n",
              "    }\n",
              "    80% {\n",
              "      border-color: transparent;\n",
              "      border-right-color: var(--fill-color);\n",
              "      border-bottom-color: var(--fill-color);\n",
              "    }\n",
              "    90% {\n",
              "      border-color: transparent;\n",
              "      border-bottom-color: var(--fill-color);\n",
              "    }\n",
              "  }\n",
              "</style>\n",
              "\n",
              "      <script>\n",
              "        async function quickchart(key) {\n",
              "          const quickchartButtonEl =\n",
              "            document.querySelector('#' + key + ' button');\n",
              "          quickchartButtonEl.disabled = true;  // To prevent multiple clicks.\n",
              "          quickchartButtonEl.classList.add('colab-df-spinner');\n",
              "          try {\n",
              "            const charts = await google.colab.kernel.invokeFunction(\n",
              "                'suggestCharts', [key], {});\n",
              "          } catch (error) {\n",
              "            console.error('Error during call to suggestCharts:', error);\n",
              "          }\n",
              "          quickchartButtonEl.classList.remove('colab-df-spinner');\n",
              "          quickchartButtonEl.classList.add('colab-df-quickchart-complete');\n",
              "        }\n",
              "        (() => {\n",
              "          let quickchartButtonEl =\n",
              "            document.querySelector('#df-3883452e-8f43-4d90-b045-d01d1676d8bb button');\n",
              "          quickchartButtonEl.style.display =\n",
              "            google.colab.kernel.accessAllowed ? 'block' : 'none';\n",
              "        })();\n",
              "      </script>\n",
              "    </div>\n",
              "\n",
              "    </div>\n",
              "  </div>\n"
            ],
            "application/vnd.google.colaboratory.intrinsic+json": {
              "type": "dataframe",
              "variable_name": "df",
              "summary": "{\n  \"name\": \"df\",\n  \"rows\": 5170,\n  \"fields\": [\n    {\n      \"column\": \"email_text\",\n      \"properties\": {\n        \"dtype\": \"string\",\n        \"num_unique_values\": 4992,\n        \"samples\": [\n          \"Subject: indian springs\\r\\ni need hpl sales and purchases , back dated to 8 / 99 between hpl and teco to\\r\\nbook any processing revenue or losses . apparently this is in addition to the\\r\\ncurrent deal in place and is priced at at different rate . please let me know\\r\\nwhen these tickets are in place so that i can get track id ' s and finalize\\r\\nthis issue .\\r\\nthank you ,\\r\\nmary\",\n          \"Subject: hpl nom for december 21 , 2000\\r\\n( see attached file : hplnl 221 . xls )\\r\\n- hplnl 221 . xls\",\n          \"Subject: neuer stoff eingetroffen . . . . . . . . . . . . . . . . . . . . . . . . . . . . . . . . . . . . . . . . . . . . . . . . . . . . . . jg phc dcmyplp\\r\\nfrauen in lack und leder ! gefesselt , geknebelt und\\r\\n , bdsm , wachs und fisting hier findest du alles perverse\\r\\n!\\r\\nvideogalerien mit hunderten von filmen aus\\r\\nallen sparten und\\r\\n100 . 000 e bilder in bester\\r\\nqualitaet\\r\\nklick\\r\\nhier !\\r\\num unsere news abzubestellen , klick hier\\r\\nvvcxfn\\r\\nl omnypa bgo vnrlb a usca mrntkceduiza rh wwwkbhbbbzn av nxl o c sutdbuorib\"\n        ],\n        \"semantic_type\": \"\",\n        \"description\": \"\"\n      }\n    },\n    {\n      \"column\": \"spam\",\n      \"properties\": {\n        \"dtype\": \"boolean\",\n        \"num_unique_values\": 2,\n        \"samples\": [\n          true,\n          false\n        ],\n        \"semantic_type\": \"\",\n        \"description\": \"\"\n      }\n    }\n  ]\n}"
            }
          },
          "metadata": {},
          "execution_count": 3
        }
      ]
    },
    {
      "cell_type": "markdown",
      "source": [
        "## Step 2: Create Labeled Examples from the Data Set"
      ],
      "metadata": {
        "id": "to6d1i1Sglbe"
      }
    },
    {
      "cell_type": "code",
      "source": [
        "y = df['spam']\n",
        "X = df['email_text']\n",
        "\n",
        "X.shape"
      ],
      "metadata": {
        "id": "Qd_i18cQgl96",
        "colab": {
          "base_uri": "https://localhost:8080/"
        },
        "outputId": "3a7dd0e9-cdcf-4f1e-ccd1-7f38a58f5019"
      },
      "execution_count": 4,
      "outputs": [
        {
          "output_type": "execute_result",
          "data": {
            "text/plain": [
              "(5170,)"
            ]
          },
          "metadata": {},
          "execution_count": 4
        }
      ]
    },
    {
      "cell_type": "code",
      "source": [
        "X.head()"
      ],
      "metadata": {
        "id": "v-MOl6WcgowO",
        "colab": {
          "base_uri": "https://localhost:8080/",
          "height": 241
        },
        "outputId": "d4d3d433-f781-417a-f301-75123717d4f4"
      },
      "execution_count": 5,
      "outputs": [
        {
          "output_type": "execute_result",
          "data": {
            "text/plain": [
              "0    Subject: enron methanol ; meter # : 988291\\r\\n...\n",
              "1    Subject: hpl nom for january 9 , 2001\\r\\n( see...\n",
              "2    Subject: neon retreat\\r\\nho ho ho , we ' re ar...\n",
              "3    Subject: photoshop , windows , office . cheap ...\n",
              "4    Subject: re : indian springs\\r\\nthis deal is t...\n",
              "Name: email_text, dtype: object"
            ],
            "text/html": [
              "<div>\n",
              "<style scoped>\n",
              "    .dataframe tbody tr th:only-of-type {\n",
              "        vertical-align: middle;\n",
              "    }\n",
              "\n",
              "    .dataframe tbody tr th {\n",
              "        vertical-align: top;\n",
              "    }\n",
              "\n",
              "    .dataframe thead th {\n",
              "        text-align: right;\n",
              "    }\n",
              "</style>\n",
              "<table border=\"1\" class=\"dataframe\">\n",
              "  <thead>\n",
              "    <tr style=\"text-align: right;\">\n",
              "      <th></th>\n",
              "      <th>email_text</th>\n",
              "    </tr>\n",
              "  </thead>\n",
              "  <tbody>\n",
              "    <tr>\n",
              "      <th>0</th>\n",
              "      <td>Subject: enron methanol ; meter # : 988291\\r\\n...</td>\n",
              "    </tr>\n",
              "    <tr>\n",
              "      <th>1</th>\n",
              "      <td>Subject: hpl nom for january 9 , 2001\\r\\n( see...</td>\n",
              "    </tr>\n",
              "    <tr>\n",
              "      <th>2</th>\n",
              "      <td>Subject: neon retreat\\r\\nho ho ho , we ' re ar...</td>\n",
              "    </tr>\n",
              "    <tr>\n",
              "      <th>3</th>\n",
              "      <td>Subject: photoshop , windows , office . cheap ...</td>\n",
              "    </tr>\n",
              "    <tr>\n",
              "      <th>4</th>\n",
              "      <td>Subject: re : indian springs\\r\\nthis deal is t...</td>\n",
              "    </tr>\n",
              "  </tbody>\n",
              "</table>\n",
              "</div><br><label><b>dtype:</b> object</label>"
            ]
          },
          "metadata": {},
          "execution_count": 5
        }
      ]
    },
    {
      "cell_type": "markdown",
      "source": [
        "Example of a spam email and an email that is not spam"
      ],
      "metadata": {
        "id": "frFSXlz5gpHT"
      }
    },
    {
      "cell_type": "code",
      "source": [
        "print('A spam email: \\n\\n', X[67])\n",
        "print('A non-spam email: \\n\\n', X[135])"
      ],
      "metadata": {
        "id": "bCWETNsagspw",
        "colab": {
          "base_uri": "https://localhost:8080/"
        },
        "outputId": "164f6b3f-d8c7-4b6a-e29c-dab967ec878b"
      },
      "execution_count": 6,
      "outputs": [
        {
          "output_type": "stream",
          "name": "stdout",
          "text": [
            "A spam email: \n",
            "\n",
            " Subject: re : husband soup would be\r\n",
            "as you know election time is not the best thing for the economy .\r\n",
            "economy is in a very unstable condition , as you can see gas prices\r\n",
            "are going up along with the m o rtgvage rat e s . once the\r\n",
            "r a te goes up you will not have a chance to s av e money again\r\n",
            "for a very long time .\r\n",
            "it is your last chance . get r e f inanced at 4 . 2 point !\r\n",
            "http : / / www . fintod . com /\r\n",
            "- -\r\n",
            "despoil , compote a amende\r\n",
            "the me orbital irruption\r\n",
            "gfawn a ax henrietta\r\n",
            "a the in boatswain\r\n",
            "out whither the accompanist lint macintosh\r\n",
            "\n",
            "A non-spam email: \n",
            "\n",
            " Subject: re : tuesday , december 26 th\r\n",
            "i will be here tuesday , also .\r\n",
            "mark mccoy\r\n",
            "12 / 20 / 2000 09 : 04 am\r\n",
            "to : michael olsen / na / enron @ enron , tom acton / corp / enron @ enron , clem\r\n",
            "cernosek / hou / ect @ ect , robert cotten / hou / ect @ ect , jackie young / hou / ect @ ect ,\r\n",
            "sabrae zajac / hou / ect @ ect , carlos j rodriguez / hou / ect @ ect , mark\r\n",
            "mccoy / corp / enron @ enron , aimee lannou / hou / ect @ ect , mary\r\n",
            "poorman / na / enron @ enron , eddie janzen / na / enron @ enron\r\n",
            "cc : daren j farmer / hou / ect @ ect , lauri a allen / hou / ect @ ect\r\n",
            "subject : re : tuesday , december 26 th\r\n",
            "i ' ll be here on tuesday .\r\n",
            "mary poorman\r\n",
            "12 / 20 / 2000 08 : 34 am\r\n",
            "to : michael olsen / na / enron @ enron , tom acton / corp / enron @ enron , clem\r\n",
            "cernosek / hou / ect @ ect , robert cotten / hou / ect @ ect , jackie young / hou / ect @ ect ,\r\n",
            "sabrae zajac / hou / ect @ ect , carlos j rodriguez / hou / ect @ ect , mark\r\n",
            "mccoy / corp / enron @ enron , aimee lannou / hou / ect @ ect , mary\r\n",
            "poorman / na / enron @ enron , eddie janzen / na / enron @ enron\r\n",
            "cc : daren j farmer / hou / ect @ ect , lauri a allen / hou / ect @ ect\r\n",
            "subject : tuesday , december 26 th\r\n",
            "we will need a small staff to handle potential trades for wed . the 27 th .\r\n",
            "most of the pipelines are out of the office , so i would expect the work load\r\n",
            "to be minimal . i plan on coming in , and would like to have a minimum of\r\n",
            "three on staff , so i need two volunteers ( one offsystem , just in case ) . if\r\n",
            "anyone is going to be in town , please forward a number , in case we need to\r\n",
            "call any additional people in , or have you work on a laptop from home . i\r\n",
            "will get with you after the new year to make up the holiday you miss , or , you\r\n",
            "can schedule your day now , i have the calendars . also , i will be out on\r\n",
            "vacation friday , dec . 22 nd and will need someone to send the nominations to\r\n",
            "the plants , i don ' t expect to have full system coverage , just hpl / hpl and\r\n",
            "hpl / ena as needed . let me know if you are interested in learning how to do\r\n",
            "this .\r\n",
            "thank you ,\r\n",
            "mary\n"
          ]
        }
      ]
    },
    {
      "cell_type": "markdown",
      "source": [
        "## Step 3: Preprocess the Text"
      ],
      "metadata": {
        "id": "axXqYuRCgwbo"
      }
    },
    {
      "cell_type": "code",
      "source": [
        "import gensim"
      ],
      "metadata": {
        "id": "TfNCBeEiguFY"
      },
      "execution_count": 23,
      "outputs": []
    },
    {
      "cell_type": "code",
      "source": [
        "original_X = X\n",
        "X = X.apply(lambda row: gensim.utils.simple_preprocess(row))"
      ],
      "metadata": {
        "id": "g59ERSHXgzV8"
      },
      "execution_count": 8,
      "outputs": []
    },
    {
      "cell_type": "code",
      "source": [
        "X.head()"
      ],
      "metadata": {
        "id": "dYFtljUlg1DU",
        "colab": {
          "base_uri": "https://localhost:8080/",
          "height": 241
        },
        "outputId": "b39f51b5-1dca-4bd3-866f-01f7898cfbfc"
      },
      "execution_count": 9,
      "outputs": [
        {
          "output_type": "execute_result",
          "data": {
            "text/plain": [
              "0    [subject, enron, methanol, meter, this, is, fo...\n",
              "1    [subject, hpl, nom, for, january, see, attache...\n",
              "2    [subject, neon, retreat, ho, ho, ho, we, re, a...\n",
              "3    [subject, photoshop, windows, office, cheap, m...\n",
              "4    [subject, re, indian, springs, this, deal, is,...\n",
              "Name: email_text, dtype: object"
            ],
            "text/html": [
              "<div>\n",
              "<style scoped>\n",
              "    .dataframe tbody tr th:only-of-type {\n",
              "        vertical-align: middle;\n",
              "    }\n",
              "\n",
              "    .dataframe tbody tr th {\n",
              "        vertical-align: top;\n",
              "    }\n",
              "\n",
              "    .dataframe thead th {\n",
              "        text-align: right;\n",
              "    }\n",
              "</style>\n",
              "<table border=\"1\" class=\"dataframe\">\n",
              "  <thead>\n",
              "    <tr style=\"text-align: right;\">\n",
              "      <th></th>\n",
              "      <th>email_text</th>\n",
              "    </tr>\n",
              "  </thead>\n",
              "  <tbody>\n",
              "    <tr>\n",
              "      <th>0</th>\n",
              "      <td>[subject, enron, methanol, meter, this, is, fo...</td>\n",
              "    </tr>\n",
              "    <tr>\n",
              "      <th>1</th>\n",
              "      <td>[subject, hpl, nom, for, january, see, attache...</td>\n",
              "    </tr>\n",
              "    <tr>\n",
              "      <th>2</th>\n",
              "      <td>[subject, neon, retreat, ho, ho, ho, we, re, a...</td>\n",
              "    </tr>\n",
              "    <tr>\n",
              "      <th>3</th>\n",
              "      <td>[subject, photoshop, windows, office, cheap, m...</td>\n",
              "    </tr>\n",
              "    <tr>\n",
              "      <th>4</th>\n",
              "      <td>[subject, re, indian, springs, this, deal, is,...</td>\n",
              "    </tr>\n",
              "  </tbody>\n",
              "</table>\n",
              "</div><br><label><b>dtype:</b> object</label>"
            ]
          },
          "metadata": {},
          "execution_count": 9
        }
      ]
    },
    {
      "cell_type": "code",
      "source": [
        "original_X.head()"
      ],
      "metadata": {
        "id": "0ssD5MKHg2eT",
        "colab": {
          "base_uri": "https://localhost:8080/",
          "height": 241
        },
        "outputId": "a8edb1f1-c7f8-443a-fd9f-1d0017aaa951"
      },
      "execution_count": 10,
      "outputs": [
        {
          "output_type": "execute_result",
          "data": {
            "text/plain": [
              "0    Subject: enron methanol ; meter # : 988291\\r\\n...\n",
              "1    Subject: hpl nom for january 9 , 2001\\r\\n( see...\n",
              "2    Subject: neon retreat\\r\\nho ho ho , we ' re ar...\n",
              "3    Subject: photoshop , windows , office . cheap ...\n",
              "4    Subject: re : indian springs\\r\\nthis deal is t...\n",
              "Name: email_text, dtype: object"
            ],
            "text/html": [
              "<div>\n",
              "<style scoped>\n",
              "    .dataframe tbody tr th:only-of-type {\n",
              "        vertical-align: middle;\n",
              "    }\n",
              "\n",
              "    .dataframe tbody tr th {\n",
              "        vertical-align: top;\n",
              "    }\n",
              "\n",
              "    .dataframe thead th {\n",
              "        text-align: right;\n",
              "    }\n",
              "</style>\n",
              "<table border=\"1\" class=\"dataframe\">\n",
              "  <thead>\n",
              "    <tr style=\"text-align: right;\">\n",
              "      <th></th>\n",
              "      <th>email_text</th>\n",
              "    </tr>\n",
              "  </thead>\n",
              "  <tbody>\n",
              "    <tr>\n",
              "      <th>0</th>\n",
              "      <td>Subject: enron methanol ; meter # : 988291\\r\\n...</td>\n",
              "    </tr>\n",
              "    <tr>\n",
              "      <th>1</th>\n",
              "      <td>Subject: hpl nom for january 9 , 2001\\r\\n( see...</td>\n",
              "    </tr>\n",
              "    <tr>\n",
              "      <th>2</th>\n",
              "      <td>Subject: neon retreat\\r\\nho ho ho , we ' re ar...</td>\n",
              "    </tr>\n",
              "    <tr>\n",
              "      <th>3</th>\n",
              "      <td>Subject: photoshop , windows , office . cheap ...</td>\n",
              "    </tr>\n",
              "    <tr>\n",
              "      <th>4</th>\n",
              "      <td>Subject: re : indian springs\\r\\nthis deal is t...</td>\n",
              "    </tr>\n",
              "  </tbody>\n",
              "</table>\n",
              "</div><br><label><b>dtype:</b> object</label>"
            ]
          },
          "metadata": {},
          "execution_count": 10
        }
      ]
    },
    {
      "cell_type": "markdown",
      "source": [
        "## Step 4: Create Training and Test Data Sets"
      ],
      "metadata": {
        "id": "sA_6FBFMg75l"
      }
    },
    {
      "cell_type": "code",
      "source": [
        "X_train, X_test, y_train, y_test = train_test_split(X, y, train_size=.80, random_state=1234)\n",
        "\n",
        "X_train.head()"
      ],
      "metadata": {
        "id": "5RFTMkO_g3t7",
        "colab": {
          "base_uri": "https://localhost:8080/",
          "height": 241
        },
        "outputId": "e2eda764-2955-4ca5-b53a-54f5fc240806"
      },
      "execution_count": 11,
      "outputs": [
        {
          "output_type": "execute_result",
          "data": {
            "text/plain": [
              "562     [subject, hpl, nom, for, sept, see, attached, ...\n",
              "148     [subject, copanno, changes, forwarded, by, ami...\n",
              "4831    [subject, re, maynard, oil, revised, nom, dare...\n",
              "3385    [subject, deal, for, december, can, either, of...\n",
              "2389    [subject, heisse, sx, action, hallo, mein, lie...\n",
              "Name: email_text, dtype: object"
            ],
            "text/html": [
              "<div>\n",
              "<style scoped>\n",
              "    .dataframe tbody tr th:only-of-type {\n",
              "        vertical-align: middle;\n",
              "    }\n",
              "\n",
              "    .dataframe tbody tr th {\n",
              "        vertical-align: top;\n",
              "    }\n",
              "\n",
              "    .dataframe thead th {\n",
              "        text-align: right;\n",
              "    }\n",
              "</style>\n",
              "<table border=\"1\" class=\"dataframe\">\n",
              "  <thead>\n",
              "    <tr style=\"text-align: right;\">\n",
              "      <th></th>\n",
              "      <th>email_text</th>\n",
              "    </tr>\n",
              "  </thead>\n",
              "  <tbody>\n",
              "    <tr>\n",
              "      <th>562</th>\n",
              "      <td>[subject, hpl, nom, for, sept, see, attached, ...</td>\n",
              "    </tr>\n",
              "    <tr>\n",
              "      <th>148</th>\n",
              "      <td>[subject, copanno, changes, forwarded, by, ami...</td>\n",
              "    </tr>\n",
              "    <tr>\n",
              "      <th>4831</th>\n",
              "      <td>[subject, re, maynard, oil, revised, nom, dare...</td>\n",
              "    </tr>\n",
              "    <tr>\n",
              "      <th>3385</th>\n",
              "      <td>[subject, deal, for, december, can, either, of...</td>\n",
              "    </tr>\n",
              "    <tr>\n",
              "      <th>2389</th>\n",
              "      <td>[subject, heisse, sx, action, hallo, mein, lie...</td>\n",
              "    </tr>\n",
              "  </tbody>\n",
              "</table>\n",
              "</div><br><label><b>dtype:</b> object</label>"
            ]
          },
          "metadata": {},
          "execution_count": 11
        }
      ]
    },
    {
      "cell_type": "markdown",
      "source": [
        "## Step 5: Training the Word2Vec Model and Inspecting the Word Embeddings"
      ],
      "metadata": {
        "id": "c_W3nbKjhBYr"
      }
    },
    {
      "cell_type": "markdown",
      "source": [
        "* size: dimension of each resulting vector that will represent each word.\n",
        "* window: the number of words behind or ahead of a target word that will be used to provide context for that word\n",
        "* min_count: the number of times a word must appear in our text document in order to create a word vector. The model will ignore words that do not satisfy the `min_count` specification, therefore ignoring words that are not important."
      ],
      "metadata": {
        "id": "h4gHYWuahJFr"
      }
    },
    {
      "cell_type": "code",
      "source": [
        "print(\"Begin\")\n",
        "word2vec_model = gensim.models.Word2Vec(X_train,\n",
        "                                   vector_size=100,\n",
        "                                   window=5,\n",
        "                                   min_count=2)\n",
        "\n",
        "print(\"End\")"
      ],
      "metadata": {
        "id": "wfk745HOg-cK",
        "colab": {
          "base_uri": "https://localhost:8080/"
        },
        "outputId": "9ff80e86-a794-404b-8c20-493ca60d0abd"
      },
      "execution_count": 12,
      "outputs": [
        {
          "output_type": "stream",
          "name": "stdout",
          "text": [
            "Begin\n",
            "End\n"
          ]
        }
      ]
    },
    {
      "cell_type": "code",
      "source": [
        "len(word2vec_model.wv.key_to_index)  # retrieve vocabulary and measure its size"
      ],
      "metadata": {
        "id": "rkx3PZh3hNE5",
        "colab": {
          "base_uri": "https://localhost:8080/"
        },
        "outputId": "55691f2b-b240-407d-8bb8-5b3fc136ac48"
      },
      "execution_count": 13,
      "outputs": [
        {
          "output_type": "execute_result",
          "data": {
            "text/plain": [
              "18015"
            ]
          },
          "metadata": {},
          "execution_count": 13
        }
      ]
    },
    {
      "cell_type": "markdown",
      "source": [
        "## Step 6: Create Feature Vectors out of Word Embeddings for a Classifier"
      ],
      "metadata": {
        "id": "-UrHxELshVmU"
      }
    },
    {
      "cell_type": "code",
      "source": [
        "X_train.head()"
      ],
      "metadata": {
        "id": "xJUlNJ_1hW4X",
        "colab": {
          "base_uri": "https://localhost:8080/",
          "height": 241
        },
        "outputId": "3418a1a3-20e9-4ad7-f38a-f54a16db02b7"
      },
      "execution_count": 14,
      "outputs": [
        {
          "output_type": "execute_result",
          "data": {
            "text/plain": [
              "562     [subject, hpl, nom, for, sept, see, attached, ...\n",
              "148     [subject, copanno, changes, forwarded, by, ami...\n",
              "4831    [subject, re, maynard, oil, revised, nom, dare...\n",
              "3385    [subject, deal, for, december, can, either, of...\n",
              "2389    [subject, heisse, sx, action, hallo, mein, lie...\n",
              "Name: email_text, dtype: object"
            ],
            "text/html": [
              "<div>\n",
              "<style scoped>\n",
              "    .dataframe tbody tr th:only-of-type {\n",
              "        vertical-align: middle;\n",
              "    }\n",
              "\n",
              "    .dataframe tbody tr th {\n",
              "        vertical-align: top;\n",
              "    }\n",
              "\n",
              "    .dataframe thead th {\n",
              "        text-align: right;\n",
              "    }\n",
              "</style>\n",
              "<table border=\"1\" class=\"dataframe\">\n",
              "  <thead>\n",
              "    <tr style=\"text-align: right;\">\n",
              "      <th></th>\n",
              "      <th>email_text</th>\n",
              "    </tr>\n",
              "  </thead>\n",
              "  <tbody>\n",
              "    <tr>\n",
              "      <th>562</th>\n",
              "      <td>[subject, hpl, nom, for, sept, see, attached, ...</td>\n",
              "    </tr>\n",
              "    <tr>\n",
              "      <th>148</th>\n",
              "      <td>[subject, copanno, changes, forwarded, by, ami...</td>\n",
              "    </tr>\n",
              "    <tr>\n",
              "      <th>4831</th>\n",
              "      <td>[subject, re, maynard, oil, revised, nom, dare...</td>\n",
              "    </tr>\n",
              "    <tr>\n",
              "      <th>3385</th>\n",
              "      <td>[subject, deal, for, december, can, either, of...</td>\n",
              "    </tr>\n",
              "    <tr>\n",
              "      <th>2389</th>\n",
              "      <td>[subject, heisse, sx, action, hallo, mein, lie...</td>\n",
              "    </tr>\n",
              "  </tbody>\n",
              "</table>\n",
              "</div><br><label><b>dtype:</b> object</label>"
            ]
          },
          "metadata": {},
          "execution_count": 14
        }
      ]
    },
    {
      "cell_type": "code",
      "source": [
        "X_test.head()"
      ],
      "metadata": {
        "id": "8E6UYgq7hYxn",
        "colab": {
          "base_uri": "https://localhost:8080/",
          "height": 241
        },
        "outputId": "d374c7b8-a86b-4d2b-d316-41538b02eba4"
      },
      "execution_count": 15,
      "outputs": [
        {
          "output_type": "execute_result",
          "data": {
            "text/plain": [
              "5075    [subject, hpl, nom, for, may, see, attached, f...\n",
              "3817    [subject, cleburne, tenaska, iv, plant, daren,...\n",
              "2967    [subject, re, producer, connects, on, the, con...\n",
              "3014    [subject, mail, hey, daren, is, this, your, ma...\n",
              "2185    [subject, revision, forest, oil, november, gas...\n",
              "Name: email_text, dtype: object"
            ],
            "text/html": [
              "<div>\n",
              "<style scoped>\n",
              "    .dataframe tbody tr th:only-of-type {\n",
              "        vertical-align: middle;\n",
              "    }\n",
              "\n",
              "    .dataframe tbody tr th {\n",
              "        vertical-align: top;\n",
              "    }\n",
              "\n",
              "    .dataframe thead th {\n",
              "        text-align: right;\n",
              "    }\n",
              "</style>\n",
              "<table border=\"1\" class=\"dataframe\">\n",
              "  <thead>\n",
              "    <tr style=\"text-align: right;\">\n",
              "      <th></th>\n",
              "      <th>email_text</th>\n",
              "    </tr>\n",
              "  </thead>\n",
              "  <tbody>\n",
              "    <tr>\n",
              "      <th>5075</th>\n",
              "      <td>[subject, hpl, nom, for, may, see, attached, f...</td>\n",
              "    </tr>\n",
              "    <tr>\n",
              "      <th>3817</th>\n",
              "      <td>[subject, cleburne, tenaska, iv, plant, daren,...</td>\n",
              "    </tr>\n",
              "    <tr>\n",
              "      <th>2967</th>\n",
              "      <td>[subject, re, producer, connects, on, the, con...</td>\n",
              "    </tr>\n",
              "    <tr>\n",
              "      <th>3014</th>\n",
              "      <td>[subject, mail, hey, daren, is, this, your, ma...</td>\n",
              "    </tr>\n",
              "    <tr>\n",
              "      <th>2185</th>\n",
              "      <td>[subject, revision, forest, oil, november, gas...</td>\n",
              "    </tr>\n",
              "  </tbody>\n",
              "</table>\n",
              "</div><br><label><b>dtype:</b> object</label>"
            ]
          },
          "metadata": {},
          "execution_count": 15
        }
      ]
    },
    {
      "cell_type": "code",
      "source": [
        "words = set(word2vec_model.wv.index_to_key)\n",
        "\n",
        "print('Begin transforming X_train')\n",
        "X_train_word_embeddings = np.array([np.array([word2vec_model.wv[word] for word in words if word in training_example])\n",
        "                        for training_example in X_train], dtype=object)\n",
        "print('Finish transforming X_train')\n",
        "\n",
        "print('Begin transforming X_test')\n",
        "X_test_word_embeddings = np.array([np.array([word2vec_model.wv[word] for word in words if word in training_example])\n",
        "                        for training_example in X_test], dtype=object)\n",
        "print('Finish transforming X_test')"
      ],
      "metadata": {
        "id": "Mfcz4lKrhaNP",
        "colab": {
          "base_uri": "https://localhost:8080/"
        },
        "outputId": "81a122c7-d54a-4c20-d983-a6cc40a683e6"
      },
      "execution_count": 16,
      "outputs": [
        {
          "output_type": "stream",
          "name": "stdout",
          "text": [
            "Begin transforming X_train\n",
            "Finish transforming X_train\n",
            "Begin transforming X_test\n",
            "Finish transforming X_test\n"
          ]
        }
      ]
    },
    {
      "cell_type": "code",
      "source": [
        "print('Number of words in first training example: {0}'.format(len(X_train.iloc[0])))\n",
        "print('First word in first training example: {0}'.format(X_train.iloc[0][0]))\n",
        "print('Second word in first training example: {0}\\n'.format(X_train.iloc[0][1]))\n",
        "\n",
        "print('First word vector in first training example:\\n {0}'.format(X_train_word_embeddings[0][0]))\n",
        "print('\\nSecond word vector in first training example: \\n {0}\\n'.format(X_train_word_embeddings[0][1]))\n"
      ],
      "metadata": {
        "id": "0iY4HZE1hfAT",
        "colab": {
          "base_uri": "https://localhost:8080/"
        },
        "outputId": "4c666274-60f7-47fa-a338-842f8fa137f0"
      },
      "execution_count": 17,
      "outputs": [
        {
          "output_type": "stream",
          "name": "stdout",
          "text": [
            "Number of words in first training example: 12\n",
            "First word in first training example: subject\n",
            "Second word in first training example: hpl\n",
            "\n",
            "First word vector in first training example:\n",
            " [-0.5830294   0.26648676 -0.17418745 -0.6508297   0.17991309 -0.43210682\n",
            "  0.24908517  1.3143828  -0.45265633 -0.48573413 -0.5473619  -0.91590846\n",
            "  0.17094237 -0.2243076   0.25457758 -0.8009194   0.06790558 -0.54916674\n",
            "  0.26852894 -0.87041545  0.9626919   0.5477013   0.3171348  -0.30841976\n",
            " -0.09730385  0.29818127 -0.9116429  -0.58347476 -0.5814771  -0.05723939\n",
            " -0.15337953  0.09529152  0.28491026 -0.6787923   0.2541098   0.65875345\n",
            " -0.21031994 -0.26048505 -0.13544951 -0.98579776  0.01115817  0.27915508\n",
            " -0.5110806   0.23631197  0.72715926 -0.5090099  -0.44776857 -0.35734907\n",
            "  0.3916944   0.65690726  0.24637932 -0.30662492 -0.7989687  -0.3785071\n",
            " -0.36952832  0.45433134  0.33764812  0.10720887 -0.6627421   0.1114152\n",
            " -0.21397664  0.29842535  0.20470521 -0.06714604 -1.0909793   0.31735903\n",
            "  0.5883857   0.4223822  -0.8675988   0.41734904 -0.3862271   0.74282825\n",
            "  0.43205968 -0.01422233  1.0865755   0.23656698 -0.02052296  0.29216185\n",
            " -0.857753    0.2577201   0.01562667  0.17387551 -0.6102483   0.8586369\n",
            " -0.17987557 -0.07432978 -0.23806079  0.97860086  0.68802977  0.1726557\n",
            "  0.51414984  0.07042774  0.876281    0.415259    1.2168517   0.9433938\n",
            "  0.29117194 -0.08186615  0.30806845 -0.10460547]\n",
            "\n",
            "Second word vector in first training example: \n",
            " [-1.3840741   1.2206944  -0.72069895  0.36908093 -1.0078534   0.04681191\n",
            " -0.5009103   0.00516656  0.94614893 -1.655956    0.21839386 -0.781765\n",
            " -2.0151758  -0.83394915 -0.76189095  0.46726626 -0.34051314  0.6633159\n",
            "  1.3851188  -1.5832754   3.0133772   0.02702773  1.0152615  -0.8997733\n",
            "  0.77311045  0.08657374 -0.3996877  -0.5204709   0.49459177 -0.6803227\n",
            " -1.4724934   2.8236318   1.5574883  -1.1095924   2.4091558  -0.3535791\n",
            " -0.30073455  0.8277659  -0.80275536 -2.45354    -0.22001554 -1.3023113\n",
            " -1.2740735   0.24287862  1.1742802  -2.4862866   1.2723134  -1.6037734\n",
            "  1.7727109  -0.0625378   0.9979962   0.15119179  1.1149943   1.9329916\n",
            "  0.853518    1.2795599   1.2361767  -0.18008421 -1.8039218  -0.24646623\n",
            "  0.10593715  0.98085725 -0.6512092  -0.69408274 -1.3970673  -0.378959\n",
            " -0.85654384  0.0577401  -1.1999389   1.4015056  -0.9714833   1.13529\n",
            " -0.62562406  1.1128663   0.8085522   2.266874    1.4272562   1.0182992\n",
            "  0.87874484 -1.621804   -1.4753728  -1.277894    0.11794621 -0.29347447\n",
            "  0.18936065  0.0382633   1.5820727   0.24957459  1.9721541   1.1020964\n",
            "  1.5345299  -0.07204073 -2.1865835   0.66074675  2.3549826   0.80007523\n",
            "  2.0884485  -0.77740103  0.8318181  -1.7695502 ]\n",
            "\n"
          ]
        }
      ]
    },
    {
      "cell_type": "code",
      "source": [
        "print('Number of word vectors in first five examples in training set:')\n",
        "for w in range(0, 5):\n",
        "    print(len(X_train_word_embeddings[w]))\n",
        "\n",
        "print('Number of word vectors in first five examples in test set:')\n",
        "for w in range(0, 5):\n",
        "    print(len(X_test_word_embeddings[w]))"
      ],
      "metadata": {
        "id": "k5jnvVWGhfja",
        "colab": {
          "base_uri": "https://localhost:8080/"
        },
        "outputId": "7bdc51b0-4f8d-4eea-aa68-acafb563e311"
      },
      "execution_count": 18,
      "outputs": [
        {
          "output_type": "stream",
          "name": "stdout",
          "text": [
            "Number of word vectors in first five examples in training set:\n",
            "10\n",
            "23\n",
            "37\n",
            "57\n",
            "30\n",
            "Number of word vectors in first five examples in test set:\n",
            "10\n",
            "31\n",
            "59\n",
            "8\n",
            "59\n"
          ]
        }
      ]
    },
    {
      "cell_type": "markdown",
      "source": [
        "This will cause an error when we train our model. We have to create feature vectors that will provide our classifier with a consistent set of features per example.\n",
        "\n",
        "We can take an element-wise average of the word embeddings of the words contained in each training and test example. This makes feature vector representations that can be used as training and test features for our classifier."
      ],
      "metadata": {
        "id": "mf8dP3gTh4Rb"
      }
    },
    {
      "cell_type": "code",
      "source": [
        "X_train_feature_vector = []\n",
        "for w in X_train_word_embeddings:\n",
        "    if w.size:\n",
        "        X_train_feature_vector.append(w.mean(axis=0))\n",
        "    else:\n",
        "        X_train_feature_vector.append(np.zeros(100, dtype=float))\n",
        "\n",
        "X_test_feature_vector = []\n",
        "for w in X_test_word_embeddings:\n",
        "    if w.size:\n",
        "        X_test_feature_vector.append(w.mean(axis=0))\n",
        "    else:\n",
        "        X_test_feature_vector.append(np.zeros(100, dtype=float))"
      ],
      "metadata": {
        "id": "hLgjbXikh6-g"
      },
      "execution_count": 19,
      "outputs": []
    },
    {
      "cell_type": "markdown",
      "source": [
        "Each example now consists of one feature, which is a numerical feature vector of length 100."
      ],
      "metadata": {
        "id": "lptGLhwPiERZ"
      }
    },
    {
      "cell_type": "markdown",
      "source": [
        "## Step 7: Fit a Logistic Regression Model to the Training Data and Evaluate the Model\n",
        "\n",
        "Now we can train our model on our transformed data. The code cell below trains a logistic regression model and computes the AUC on the test set."
      ],
      "metadata": {
        "id": "huG_D-feiL-o"
      }
    },
    {
      "cell_type": "code",
      "source": [
        "# 1. Create a LogisticRegression model object, and fit a Logistic Regression model to the transformed training data\n",
        "model = LogisticRegression(max_iter=200)\n",
        "model.fit(X_train_feature_vector, y_train)\n",
        "\n",
        "# 2. Make predictions on the transformed test data using the predict_proba() method and\n",
        "# save the values of the second column\n",
        "probability_predictions = model.predict_proba(X_test_feature_vector)[:,1]\n",
        "\n",
        "# 3. Make predictions on the transformed test data using the predict() method\n",
        "class_label_predictions = model.predict(X_test_feature_vector)\n",
        "\n",
        "# 4. Compute the Area Under the ROC curve (AUC) for the test data.\n",
        "auc = roc_auc_score(y_test, probability_predictions)\n",
        "print('AUC on the test data: {:.4f}'.format(auc))"
      ],
      "metadata": {
        "id": "ilsf81pMiFc2",
        "colab": {
          "base_uri": "https://localhost:8080/"
        },
        "outputId": "d5de890d-cbd3-435b-f99a-0410f8fc9a52"
      },
      "execution_count": 20,
      "outputs": [
        {
          "output_type": "stream",
          "name": "stdout",
          "text": [
            "AUC on the test data: 0.9868\n"
          ]
        }
      ]
    },
    {
      "cell_type": "code",
      "source": [
        "print('Email #1:\\n')\n",
        "print(original_X[14])\n",
        "\n",
        "print('\\nPrediction: Is this a spam email? {}\\n'.format(class_label_predictions[14]))\n",
        "\n",
        "print('Actual: Is this a spam email? {}\\n'.format(y_test.to_numpy()[14]))"
      ],
      "metadata": {
        "id": "p0DteQYviIf4",
        "colab": {
          "base_uri": "https://localhost:8080/"
        },
        "outputId": "bd36d67a-daa5-4dfe-ef08-b1f2a4902baa"
      },
      "execution_count": 21,
      "outputs": [
        {
          "output_type": "stream",
          "name": "stdout",
          "text": [
            "Email #1:\n",
            "\n",
            "Subject: tenaska iv july\r\n",
            "darren :\r\n",
            "please remove the price on the tenaska iv sale , deal 384258 , for july and enter the demand fee . the amount should be $ 3 , 902 , 687 . 50 .\r\n",
            "thanks ,\r\n",
            "megan\n",
            "\n",
            "Prediction: Is this a spam email? True\n",
            "\n",
            "Actual: Is this a spam email? True\n",
            "\n"
          ]
        }
      ]
    },
    {
      "cell_type": "code",
      "source": [
        "print('Email #2:\\n')\n",
        "print(original_X[132])\n",
        "\n",
        "print('\\nPrediction: Is this a spam email? {}\\n'.format(class_label_predictions[132]))\n",
        "\n",
        "print('Actual: Is this a spam email? {}\\n'.format(y_test.to_numpy()[132]))"
      ],
      "metadata": {
        "id": "Giw6iR-NiVUW",
        "colab": {
          "base_uri": "https://localhost:8080/"
        },
        "outputId": "5101e663-0462-4599-92e2-220510184cdd"
      },
      "execution_count": 22,
      "outputs": [
        {
          "output_type": "stream",
          "name": "stdout",
          "text": [
            "Email #2:\n",
            "\n",
            "Subject: re : noms / actual flow for 3 / 29 / 01\r\n",
            "we agree with the nomination .\r\n",
            "\" eileen ponton \" on 03 / 30 / 2001 10 : 05 : 40 am\r\n",
            "to : david avila / lsp / enserch / us @ tu , charlie stone / texas utilities @ tu , melissa\r\n",
            "jones / texas utilities @ tu , hpl . scheduling @ enron . com ,\r\n",
            "liz . bellamy @ enron . com\r\n",
            "cc :\r\n",
            "subject : noms / actual flow for 3 / 29 / 01\r\n",
            "nom mcf mmbtu\r\n",
            "24 , 583 24 , 999 25 , 674\r\n",
            "btu = 1 . 027\n",
            "\n",
            "Prediction: Is this a spam email? False\n",
            "\n",
            "Actual: Is this a spam email? False\n",
            "\n"
          ]
        }
      ]
    }
  ]
}